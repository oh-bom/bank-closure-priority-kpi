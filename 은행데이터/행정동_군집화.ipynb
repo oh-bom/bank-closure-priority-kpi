{
  "nbformat": 4,
  "nbformat_minor": 0,
  "metadata": {
    "colab": {
      "provenance": []
    },
    "kernelspec": {
      "name": "python3",
      "display_name": "Python 3"
    },
    "language_info": {
      "name": "python"
    }
  },
  "cells": [
    {
      "cell_type": "code",
      "execution_count": null,
      "metadata": {
        "id": "yMQXqXrFa6L9"
      },
      "outputs": [],
      "source": [
        "import numpy as np\n",
        "import pandas as pd"
      ]
    },
    {
      "cell_type": "code",
      "source": [
        "from google.colab import drive\n",
        "drive.mount('/content/drive')"
      ],
      "metadata": {
        "id": "U1TawN6DchZt",
        "colab": {
          "base_uri": "https://localhost:8080/"
        },
        "outputId": "4abdd7e3-05c9-4155-ab24-a14857c0eca9"
      },
      "execution_count": null,
      "outputs": [
        {
          "output_type": "stream",
          "name": "stdout",
          "text": [
            "Drive already mounted at /content/drive; to attempt to forcibly remount, call drive.mount(\"/content/drive\", force_remount=True).\n"
          ]
        }
      ]
    },
    {
      "cell_type": "markdown",
      "source": [
        "1. 모든 행정동마다-> 지점이 있는 가장 가까운 행정동 3개에 매핑\n",
        "2. 은행지점-> 방문하는 행정동들에 대한 시간불편도를 계산 하여 은행개수로 나누기"
      ],
      "metadata": {
        "id": "BIuwRtBotX2z"
      }
    },
    {
      "cell_type": "markdown",
      "source": [
        "### 행정동 마다 지점이 있는 행정동3개 매핑"
      ],
      "metadata": {
        "id": "CZrMB-2B53a2"
      }
    },
    {
      "cell_type": "code",
      "source": [
        "path=\"/content/drive/MyDrive/asac/project/eda/행정동_위도경도.xlsx\"\n",
        "loca=pd.read_excel(path)"
      ],
      "metadata": {
        "id": "qDyDcKJWbEY3"
      },
      "execution_count": null,
      "outputs": []
    },
    {
      "cell_type": "code",
      "source": [
        "loca"
      ],
      "metadata": {
        "id": "pizbKzIz0dXS"
      },
      "execution_count": null,
      "outputs": []
    },
    {
      "cell_type": "code",
      "source": [
        "# vpath=\"/content/drive/MyDrive/asac/project/eda/filtered/v14.xlsx\"\n",
        "# v14=pd.read_excel(vpath)"
      ],
      "metadata": {
        "id": "lwHtUfwJuSdP"
      },
      "execution_count": null,
      "outputs": []
    },
    {
      "cell_type": "code",
      "source": [
        "vpath=\"/content/drive/MyDrive/asac/project/eda/filtered/v21.xlsx\"\n",
        "v14=pd.read_excel(vpath)"
      ],
      "metadata": {
        "id": "gaJ1TINBJMc2"
      },
      "execution_count": null,
      "outputs": []
    },
    {
      "cell_type": "code",
      "source": [
        "v14.replace(to_replace=\"-\",value=0,inplace=True)\n",
        "v14=v14.loc[:425,:]\n",
        "v14.tail()"
      ],
      "metadata": {
        "id": "gSni1U3Y1naE"
      },
      "execution_count": null,
      "outputs": []
    },
    {
      "cell_type": "code",
      "source": [
        "not_null_pd=v14[v14[\"신한은행\"]!=0]\n",
        "not_null_pd"
      ],
      "metadata": {
        "id": "3XJL1cv51bBj"
      },
      "execution_count": null,
      "outputs": []
    },
    {
      "cell_type": "code",
      "source": [
        "import geopy.distance"
      ],
      "metadata": {
        "id": "CQquHbQN20GT"
      },
      "execution_count": null,
      "outputs": []
    },
    {
      "cell_type": "code",
      "source": [
        "def calc_distance(target):\n",
        "  distance={}\n",
        "  latitude=loca[loca[\"행정동명\"]==target][\"Latitude\"].iat[0]\n",
        "  longitude=loca[loca[\"행정동명\"]==target][\"Longitude\"].iat[0]\n",
        "\n",
        "  for idx, row in not_null_pd.iterrows():\n",
        "    temp_name=row[\"행정동명\"]\n",
        "\n",
        "    latitude2=loca[loca[\"행정동명\"]==temp_name][\"Latitude\"].iat[0]\n",
        "    longitude2=loca[loca[\"행정동명\"]==temp_name][\"Longitude\"].iat[0]\n",
        "\n",
        "    temp_dist=geopy.distance.distance((latitude,longitude),(latitude2,longitude2))\n",
        "\n",
        "    distance[temp_name]=temp_dist\n",
        "\n",
        "  return distance\n",
        "\n"
      ],
      "metadata": {
        "id": "bGMXb8-s0b6N"
      },
      "execution_count": null,
      "outputs": []
    },
    {
      "cell_type": "code",
      "source": [
        "def get_near_dongs(dong_name):\n",
        "\n",
        "  x=sorted(calc_distance(dong_name).values())\n",
        "  sort=sorted(calc_distance(dong_name).items(),key=lambda x:x[1])\n",
        "  near_dongs=[item[0] for item in sort[:3]]\n",
        "\n",
        "  return \",\".join(near_dongs)"
      ],
      "metadata": {
        "id": "C-gRo_VS44-9"
      },
      "execution_count": null,
      "outputs": []
    },
    {
      "cell_type": "code",
      "source": [
        "v14[\"가까운은행\"]=v14.loc[:,\"행정동명\"].apply(get_near_dongs)"
      ],
      "metadata": {
        "id": "VIlZJCY-5JD3"
      },
      "execution_count": null,
      "outputs": []
    },
    {
      "cell_type": "code",
      "source": [
        "v14[\"가까운은행\"]"
      ],
      "metadata": {
        "id": "IyGIBnE07JKj"
      },
      "execution_count": null,
      "outputs": []
    },
    {
      "cell_type": "markdown",
      "source": [
        "### 매핑된 3개의 지점에 있는 행정동의 수 합하기(= 대체제의 수 구하기)\n"
      ],
      "metadata": {
        "id": "zfp4XPhSGsEM"
      }
    },
    {
      "cell_type": "markdown",
      "source": [
        "해당 행정동에 은행지점이 없는 경우 매핑된 3개의 지점이 대체제로 사용, 해당 행정동에 은행지점이 있는 경우 본인제외 3개를 선택하여 대체제로 사용\n"
      ],
      "metadata": {
        "id": "hG9p9RVJQeF2"
      }
    },
    {
      "cell_type": "code",
      "source": [
        "v14=pd.read_excel(\"/content/drive/MyDrive/asac/project/eda/filtered/v22.xlsx\")"
      ],
      "metadata": {
        "id": "wuU8oavxW8qJ"
      },
      "execution_count": null,
      "outputs": []
    },
    {
      "cell_type": "code",
      "source": [
        "x=\"구로3동,대림2동,구로2동\"\n",
        "x.split(\",\")"
      ],
      "metadata": {
        "colab": {
          "base_uri": "https://localhost:8080/"
        },
        "id": "ReQFS-2QLnkS",
        "outputId": "3d726053-0ef1-4712-f499-bdf6ac2a95de"
      },
      "execution_count": null,
      "outputs": [
        {
          "output_type": "execute_result",
          "data": {
            "text/plain": [
              "['구로3동', '대림2동', '구로2동']"
            ]
          },
          "metadata": {},
          "execution_count": 23
        }
      ]
    },
    {
      "cell_type": "code",
      "source": [
        "v14[\"가까운은행_대체제용\"]=v14[\"가까운은행\"]"
      ],
      "metadata": {
        "id": "NUhPRKbgWmQs"
      },
      "execution_count": null,
      "outputs": []
    },
    {
      "cell_type": "code",
      "source": [
        "v14[\"가까운은행_대체제용\"]"
      ],
      "metadata": {
        "id": "oZ4UnaxlWqWP"
      },
      "execution_count": null,
      "outputs": []
    },
    {
      "cell_type": "code",
      "source": [
        "def get_near_dongs2(dong_name):\n",
        "  #해당 행정동에 은행지점이 있는 경우 4개의 행정동 뽑기(본인 제외 3개)\n",
        "  if not(not_null_pd[not_null_pd[\"행정동명\"]==dong_name].empty):\n",
        "    x=sorted(calc_distance(dong_name).values())\n",
        "    sort=sorted(calc_distance(dong_name).items(),key=lambda x:x[1])\n",
        "    near_dongs=[item[0] for item in sort[1:4]]\n",
        "\n",
        "  return \",\".join(near_dongs)"
      ],
      "metadata": {
        "id": "BnjonMmyPsAg"
      },
      "execution_count": null,
      "outputs": []
    },
    {
      "cell_type": "code",
      "source": [
        "v14[\"가까운은행_대체제용\"]=v14[v14[\"신한은행\"]!=0].loc[:,\"행정동명\"].apply(get_near_dongs2)"
      ],
      "metadata": {
        "id": "ga2JjzmvQNnD"
      },
      "execution_count": null,
      "outputs": []
    },
    {
      "cell_type": "code",
      "source": [
        "v14[\"가까운은행_대체제용\"]=v14[\"가까운은행_대체제용\"].fillna(v14[\"가까운은행\"])\n",
        "v14[\"가까운은행_대체제용\"]"
      ],
      "metadata": {
        "colab": {
          "base_uri": "https://localhost:8080/"
        },
        "id": "oZZpQ8-Eba-G",
        "outputId": "62116d2a-8724-475a-d102-cdcc38d756d5"
      },
      "execution_count": null,
      "outputs": [
        {
          "output_type": "execute_result",
          "data": {
            "text/plain": [
              "0        청운효자동,소공동,충현동\n",
              "1        가회동,청운효자동,혜화동\n",
              "2       청운효자동,홍제1동,가회동\n",
              "3      정릉4동,청운효자동,불광1동\n",
              "4        사직동,청운효자동,충현동\n",
              "            ...       \n",
              "421      광장동,명일1동,성내3동\n",
              "422     명일1동,성내3동,천호2동\n",
              "423       고덕2동,명일1동,길동\n",
              "424       고덕2동,명일1동,길동\n",
              "425       고덕2동,명일1동,길동\n",
              "Name: 가까운은행_대체제용, Length: 426, dtype: object"
            ]
          },
          "metadata": {},
          "execution_count": 77
        }
      ]
    },
    {
      "cell_type": "code",
      "source": [
        "def count_replacement(x):\n",
        "\n",
        "  bank_list=x.split(\",\")\n",
        "  cnt=0\n",
        "  for b in bank_list:\n",
        "    cnt+=not_null_pd[not_null_pd[\"행정동명\"]==b][\"유효신한\"].iat[0]\n",
        "\n",
        "  return cnt"
      ],
      "metadata": {
        "id": "ZkoJLqcGLWrS"
      },
      "execution_count": null,
      "outputs": []
    },
    {
      "cell_type": "code",
      "source": [
        "v14[\"대체제은행수\"]=v14.loc[:,\"가까운은행_대체제용\"].apply(count_replacement)"
      ],
      "metadata": {
        "id": "QIWcRLEyam0e"
      },
      "execution_count": null,
      "outputs": []
    },
    {
      "cell_type": "code",
      "source": [
        "v14[\"대체제은행수\"]"
      ],
      "metadata": {
        "colab": {
          "base_uri": "https://localhost:8080/"
        },
        "id": "7u9VLQ8gar-2",
        "outputId": "bcdfaed7-310d-425d-dc67-e38df356bcd0"
      },
      "execution_count": null,
      "outputs": [
        {
          "output_type": "execute_result",
          "data": {
            "text/plain": [
              "0      11\n",
              "1       3\n",
              "2       3\n",
              "3       3\n",
              "4       4\n",
              "       ..\n",
              "421     3\n",
              "422     3\n",
              "423     3\n",
              "424     3\n",
              "425     3\n",
              "Name: 대체제은행수, Length: 426, dtype: int64"
            ]
          },
          "metadata": {},
          "execution_count": 80
        }
      ]
    },
    {
      "cell_type": "markdown",
      "source": [],
      "metadata": {
        "id": "nsRmdJz6YBWU"
      }
    },
    {
      "cell_type": "code",
      "source": [
        "v14.to_excel(\"/content/drive/MyDrive/asac/project/eda/filtered/v22.xlsx\")"
      ],
      "metadata": {
        "id": "o5i3s6E5NWM2"
      },
      "execution_count": null,
      "outputs": []
    }
  ]
}