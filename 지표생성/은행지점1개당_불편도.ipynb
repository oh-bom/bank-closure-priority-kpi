{
  "nbformat": 4,
  "nbformat_minor": 0,
  "metadata": {
    "colab": {
      "provenance": [],
      "collapsed_sections": [
        "ZHOkDQgx39fc",
        "U9eHtu0H4A_a",
        "a44Snk2z92d9",
        "TOJRYjRU5-NI",
        "-x37uawo6FG9",
        "pZkOUeztTIjj"
      ]
    },
    "kernelspec": {
      "name": "python3",
      "display_name": "Python 3"
    },
    "language_info": {
      "name": "python"
    }
  },
  "cells": [
    {
      "cell_type": "code",
      "execution_count": null,
      "metadata": {
        "id": "VJBetqK8uzX1"
      },
      "outputs": [],
      "source": [
        "import pandas as pd\n",
        "import numpy as np"
      ]
    },
    {
      "cell_type": "code",
      "source": [
        "v13=pd.read_excel(\"/content/drive/MyDrive/asac/project/eda/filtered/v13.xlsx\")"
      ],
      "metadata": {
        "id": "EBF2jQUvvOyw"
      },
      "execution_count": null,
      "outputs": []
    },
    {
      "cell_type": "markdown",
      "source": [
        "## ver1. 지점당 시간 불편도 결과"
      ],
      "metadata": {
        "id": "DIhDH00e8-e-"
      }
    },
    {
      "cell_type": "markdown",
      "source": [
        "### 지점 1개당 불편도 계산 (행정동 별 총합_시간불편도/ 은행 지점 수)"
      ],
      "metadata": {
        "id": "ZHOkDQgx39fc"
      }
    },
    {
      "cell_type": "code",
      "source": [
        "v14=v13"
      ],
      "metadata": {
        "id": "pfZSTxTnvRLk"
      },
      "execution_count": null,
      "outputs": []
    },
    {
      "cell_type": "code",
      "source": [
        "v14.replace(to_replace=\"-\",value=0,inplace=True)"
      ],
      "metadata": {
        "id": "FpSVLaLUwvKJ"
      },
      "execution_count": null,
      "outputs": []
    },
    {
      "cell_type": "code",
      "source": [
        "def calc_timeloss_per_bank(x):\n",
        "  if x[1]==\"-\" or x[1]==0:return 0\n",
        "  else:return x[0]/float(x[1])"
      ],
      "metadata": {
        "id": "Kzfyoe5mxH7h"
      },
      "execution_count": null,
      "outputs": []
    },
    {
      "cell_type": "code",
      "source": [
        "v14[\"국민_지점1개당_시간불편도\"]=v14[[\"총합_시간불편도\",\"KB국민은행\"]].apply(calc_timeloss_per_bank,axis=1)"
      ],
      "metadata": {
        "id": "7V-KbtUDw6so"
      },
      "execution_count": null,
      "outputs": []
    },
    {
      "cell_type": "code",
      "source": [
        "v14[\"국민_지점1개당_시간불편도\"]"
      ],
      "metadata": {
        "id": "RDb9Zn5N0IjX"
      },
      "execution_count": null,
      "outputs": []
    },
    {
      "cell_type": "code",
      "source": [
        "v14[\"신한_지점1개당_시간불편도\"]=v14[[\"총합_시간불편도\",\"신한은행\"]].apply(calc_timeloss_per_bank,axis=1)\n",
        "v14[\"하나_지점1개당_시간불편도\"]=v14[[\"총합_시간불편도\",\"KEB하나은행\"]].apply(calc_timeloss_per_bank,axis=1)\n",
        "v14[\"우리_지점1개당_시간불편도\"]=v14[[\"총합_시간불편도\",\"우리은행\"]].apply(calc_timeloss_per_bank,axis=1)"
      ],
      "metadata": {
        "id": "nyNqrWJR1BZR"
      },
      "execution_count": null,
      "outputs": []
    },
    {
      "cell_type": "code",
      "source": [
        "v14.to_excel(\"/content/drive/MyDrive/asac/project/eda/filtered/v14.xlsx\")"
      ],
      "metadata": {
        "id": "Ui1sPdFV1K8F"
      },
      "execution_count": null,
      "outputs": []
    },
    {
      "cell_type": "markdown",
      "source": [
        "### 행정동별 결과 조회"
      ],
      "metadata": {
        "id": "U9eHtu0H4A_a"
      }
    },
    {
      "cell_type": "markdown",
      "source": [
        "지점이 있는 행정동만 가져오기"
      ],
      "metadata": {
        "id": "4E1jPuNn5UMW"
      }
    },
    {
      "cell_type": "code",
      "source": [
        "bank_list=[\"국민_지점1개당_시간불편도\",\"신한_지점1개당_시간불편도\",\"하나_지점1개당_시간불편도\",\"우리_지점1개당_시간불편도\"]\n",
        "bank_top_list={}\n",
        "bank_bottom_list={}\n",
        "total_top_list=[]\n",
        "total_bottom_list=[]"
      ],
      "metadata": {
        "id": "RXm357Iy6tZI"
      },
      "execution_count": null,
      "outputs": []
    },
    {
      "cell_type": "code",
      "source": [
        "for bank in bank_list:\n",
        "  bank_name=bank[:2]\n",
        "  valid=v14[v14[bank]!=0]\n",
        "  sorted=valid.sort_values(by=bank,ascending=False)\n",
        "  bank_top_list[bank_name]=sorted.head(5)[\"행정동명\"]\n",
        "  bank_bottom_list[bank_name]=sorted.tail(5)[\"행정동명\"]"
      ],
      "metadata": {
        "id": "bu0e2sYD65JO"
      },
      "execution_count": null,
      "outputs": []
    },
    {
      "cell_type": "code",
      "source": [
        "bank_top_list"
      ],
      "metadata": {
        "id": "oHi_dLOt7RV6"
      },
      "execution_count": null,
      "outputs": []
    },
    {
      "cell_type": "code",
      "source": [
        "bank_bottom_list"
      ],
      "metadata": {
        "colab": {
          "base_uri": "https://localhost:8080/"
        },
        "id": "_dZJWV7H7TXC",
        "outputId": "95bd3f71-67ad-4b7a-f358-8571e053688a"
      },
      "execution_count": null,
      "outputs": [
        {
          "output_type": "execute_result",
          "data": {
            "text/plain": [
              "{'국민': 0    사직동\n",
              " Name: 행정동명, dtype: object,\n",
              " '신한': 19      명동\n",
              " 20      필동\n",
              " 6      가회동\n",
              " 10    창신1동\n",
              " 17     소공동\n",
              " Name: 행정동명, dtype: object,\n",
              " '하나': 0       사직동\n",
              " 1       삼청동\n",
              " 6       가회동\n",
              " 361    삼성1동\n",
              " 79      회기동\n",
              " Name: 행정동명, dtype: object,\n",
              " '우리': 401    잠실6동\n",
              " 344    서초4동\n",
              " 1       삼청동\n",
              " 6       가회동\n",
              " 26      중림동\n",
              " Name: 행정동명, dtype: object}"
            ]
          },
          "metadata": {},
          "execution_count": 10
        }
      ]
    },
    {
      "cell_type": "markdown",
      "source": [
        "### 4개 은행 총합 결과"
      ],
      "metadata": {
        "id": "a44Snk2z92d9"
      }
    },
    {
      "cell_type": "code",
      "source": [
        "v14=v14.iloc[:426,:]\n",
        "v14.tail()"
      ],
      "metadata": {
        "id": "8VR4_mZcD-t0"
      },
      "execution_count": null,
      "outputs": []
    },
    {
      "cell_type": "code",
      "source": [
        "v14[\"4개은행합\"]=v14[\"KB국민은행\"]+v14[\"신한은행\"]+v14[\"KEB하나은행\"]+v14[\"우리은행\"]"
      ],
      "metadata": {
        "id": "sERoQCD996zC"
      },
      "execution_count": null,
      "outputs": []
    },
    {
      "cell_type": "code",
      "source": [
        "v14[\"4개은행_지점1개당_시간불편도\"]=v14[[\"총합_시간불편도\",\"4개은행합\"]].apply(calc_timeloss_per_bank,axis=1)"
      ],
      "metadata": {
        "id": "ppc5KOTX5XL-"
      },
      "execution_count": null,
      "outputs": []
    },
    {
      "cell_type": "code",
      "source": [
        "b4_sorted=v14.sort_values(by=\"4개은행_지점1개당_시간불편도\",ascending=False)\n",
        "b4_top5=b4_sorted.head(5)[\"행정동명\"]\n",
        "b4_top5"
      ],
      "metadata": {
        "colab": {
          "base_uri": "https://localhost:8080/"
        },
        "id": "A5JIYTlZ4ANM",
        "outputId": "832f349f-903e-4727-9aaf-e46b3829f0a4"
      },
      "execution_count": null,
      "outputs": [
        {
          "output_type": "execute_result",
          "data": {
            "text/plain": [
              "274    오류2동\n",
              "243    등촌3동\n",
              "258    화곡1동\n",
              "137     송중동\n",
              "203    북아현동\n",
              "Name: 행정동명, dtype: object"
            ]
          },
          "metadata": {},
          "execution_count": 158
        }
      ]
    },
    {
      "cell_type": "code",
      "source": [
        "b4_bottom5=b4_sorted.tail(5)[\"행정동명\"]\n",
        "b4_bottom5"
      ],
      "metadata": {
        "colab": {
          "base_uri": "https://localhost:8080/"
        },
        "id": "CSXtQ7UK5HGu",
        "outputId": "a6b98d3e-7e46-49a5-fcf6-22a86ac154c8"
      },
      "execution_count": null,
      "outputs": [
        {
          "output_type": "execute_result",
          "data": {
            "text/plain": [
              "244    화곡본동\n",
              "245    화곡2동\n",
              "247    화곡4동\n",
              "252    가양3동\n",
              "425    상일2동\n",
              "Name: 행정동명, dtype: object"
            ]
          },
          "metadata": {},
          "execution_count": 159
        }
      ]
    },
    {
      "cell_type": "code",
      "source": [
        "v14[\"시중은행_지점1개당_시간불편도\"]=v14[[\"총합_시간불편도\",\"시중은행총합\"]].apply(calc_timeloss_per_bank,axis=1)"
      ],
      "metadata": {
        "id": "EyoRfZvYCtAb"
      },
      "execution_count": null,
      "outputs": []
    },
    {
      "cell_type": "code",
      "source": [
        "whole_sorted=v14.sort_values(by=\"시중은행_지점1개당_시간불편도\",ascending=False)\n",
        "whole_top5=whole_sorted.head(5)[\"행정동명\"]\n",
        "whole_bottom5=whole_sorted.tail(5)[\"행정동명\"]\n"
      ],
      "metadata": {
        "id": "_sIgZwnJC4Ia"
      },
      "execution_count": null,
      "outputs": []
    },
    {
      "cell_type": "code",
      "source": [
        "result_pd=pd.DataFrame(\n",
        "    columns=[\"시중은행_상위\",\"4개은행_상위\",\"국민은행_상위\",\"신한은행_상위\",\"하나은행_상위\",\"우리은행_상위\",\n",
        "             \"시중은행_하위\",\"4개은행_하위\",\"국민은행_하위\",\"신한은행_하위\",\"하나은행_하위\",\"우리은행_하위\"]\n",
        ")\n",
        "result_pd"
      ],
      "metadata": {
        "colab": {
          "base_uri": "https://localhost:8080/",
          "height": 89
        },
        "id": "oTbAa81eAWdg",
        "outputId": "a4e6788f-379d-4a9e-ecd4-e8897b44b521"
      },
      "execution_count": null,
      "outputs": [
        {
          "output_type": "execute_result",
          "data": {
            "text/plain": [
              "Empty DataFrame\n",
              "Columns: [시중은행_상위, 4개은행_상위, 국민은행_상위, 신한은행_상위, 하나은행_상위, 우리은행_상위, 시중은행_하위, 4개은행_하위, 국민은행_하위, 신한은행_하위, 하나은행_하위, 우리은행_하위]\n",
              "Index: []"
            ],
            "text/html": [
              "\n",
              "  <div id=\"df-422eca50-3a83-466a-9ef6-f09877380bec\" class=\"colab-df-container\">\n",
              "    <div>\n",
              "<style scoped>\n",
              "    .dataframe tbody tr th:only-of-type {\n",
              "        vertical-align: middle;\n",
              "    }\n",
              "\n",
              "    .dataframe tbody tr th {\n",
              "        vertical-align: top;\n",
              "    }\n",
              "\n",
              "    .dataframe thead th {\n",
              "        text-align: right;\n",
              "    }\n",
              "</style>\n",
              "<table border=\"1\" class=\"dataframe\">\n",
              "  <thead>\n",
              "    <tr style=\"text-align: right;\">\n",
              "      <th></th>\n",
              "      <th>시중은행_상위</th>\n",
              "      <th>4개은행_상위</th>\n",
              "      <th>국민은행_상위</th>\n",
              "      <th>신한은행_상위</th>\n",
              "      <th>하나은행_상위</th>\n",
              "      <th>우리은행_상위</th>\n",
              "      <th>시중은행_하위</th>\n",
              "      <th>4개은행_하위</th>\n",
              "      <th>국민은행_하위</th>\n",
              "      <th>신한은행_하위</th>\n",
              "      <th>하나은행_하위</th>\n",
              "      <th>우리은행_하위</th>\n",
              "    </tr>\n",
              "  </thead>\n",
              "  <tbody>\n",
              "  </tbody>\n",
              "</table>\n",
              "</div>\n",
              "    <div class=\"colab-df-buttons\">\n",
              "\n",
              "  <div class=\"colab-df-container\">\n",
              "    <button class=\"colab-df-convert\" onclick=\"convertToInteractive('df-422eca50-3a83-466a-9ef6-f09877380bec')\"\n",
              "            title=\"Convert this dataframe to an interactive table.\"\n",
              "            style=\"display:none;\">\n",
              "\n",
              "  <svg xmlns=\"http://www.w3.org/2000/svg\" height=\"24px\" viewBox=\"0 -960 960 960\">\n",
              "    <path d=\"M120-120v-720h720v720H120Zm60-500h600v-160H180v160Zm220 220h160v-160H400v160Zm0 220h160v-160H400v160ZM180-400h160v-160H180v160Zm440 0h160v-160H620v160ZM180-180h160v-160H180v160Zm440 0h160v-160H620v160Z\"/>\n",
              "  </svg>\n",
              "    </button>\n",
              "\n",
              "  <style>\n",
              "    .colab-df-container {\n",
              "      display:flex;\n",
              "      gap: 12px;\n",
              "    }\n",
              "\n",
              "    .colab-df-convert {\n",
              "      background-color: #E8F0FE;\n",
              "      border: none;\n",
              "      border-radius: 50%;\n",
              "      cursor: pointer;\n",
              "      display: none;\n",
              "      fill: #1967D2;\n",
              "      height: 32px;\n",
              "      padding: 0 0 0 0;\n",
              "      width: 32px;\n",
              "    }\n",
              "\n",
              "    .colab-df-convert:hover {\n",
              "      background-color: #E2EBFA;\n",
              "      box-shadow: 0px 1px 2px rgba(60, 64, 67, 0.3), 0px 1px 3px 1px rgba(60, 64, 67, 0.15);\n",
              "      fill: #174EA6;\n",
              "    }\n",
              "\n",
              "    .colab-df-buttons div {\n",
              "      margin-bottom: 4px;\n",
              "    }\n",
              "\n",
              "    [theme=dark] .colab-df-convert {\n",
              "      background-color: #3B4455;\n",
              "      fill: #D2E3FC;\n",
              "    }\n",
              "\n",
              "    [theme=dark] .colab-df-convert:hover {\n",
              "      background-color: #434B5C;\n",
              "      box-shadow: 0px 1px 3px 1px rgba(0, 0, 0, 0.15);\n",
              "      filter: drop-shadow(0px 1px 2px rgba(0, 0, 0, 0.3));\n",
              "      fill: #FFFFFF;\n",
              "    }\n",
              "  </style>\n",
              "\n",
              "    <script>\n",
              "      const buttonEl =\n",
              "        document.querySelector('#df-422eca50-3a83-466a-9ef6-f09877380bec button.colab-df-convert');\n",
              "      buttonEl.style.display =\n",
              "        google.colab.kernel.accessAllowed ? 'block' : 'none';\n",
              "\n",
              "      async function convertToInteractive(key) {\n",
              "        const element = document.querySelector('#df-422eca50-3a83-466a-9ef6-f09877380bec');\n",
              "        const dataTable =\n",
              "          await google.colab.kernel.invokeFunction('convertToInteractive',\n",
              "                                                    [key], {});\n",
              "        if (!dataTable) return;\n",
              "\n",
              "        const docLinkHtml = 'Like what you see? Visit the ' +\n",
              "          '<a target=\"_blank\" href=https://colab.research.google.com/notebooks/data_table.ipynb>data table notebook</a>'\n",
              "          + ' to learn more about interactive tables.';\n",
              "        element.innerHTML = '';\n",
              "        dataTable['output_type'] = 'display_data';\n",
              "        await google.colab.output.renderOutput(dataTable, element);\n",
              "        const docLink = document.createElement('div');\n",
              "        docLink.innerHTML = docLinkHtml;\n",
              "        element.appendChild(docLink);\n",
              "      }\n",
              "    </script>\n",
              "  </div>\n",
              "\n",
              "\n",
              "  <div id=\"id_377c82e4-9c05-4807-bb47-1c2f4fbaae13\">\n",
              "    <style>\n",
              "      .colab-df-generate {\n",
              "        background-color: #E8F0FE;\n",
              "        border: none;\n",
              "        border-radius: 50%;\n",
              "        cursor: pointer;\n",
              "        display: none;\n",
              "        fill: #1967D2;\n",
              "        height: 32px;\n",
              "        padding: 0 0 0 0;\n",
              "        width: 32px;\n",
              "      }\n",
              "\n",
              "      .colab-df-generate:hover {\n",
              "        background-color: #E2EBFA;\n",
              "        box-shadow: 0px 1px 2px rgba(60, 64, 67, 0.3), 0px 1px 3px 1px rgba(60, 64, 67, 0.15);\n",
              "        fill: #174EA6;\n",
              "      }\n",
              "\n",
              "      [theme=dark] .colab-df-generate {\n",
              "        background-color: #3B4455;\n",
              "        fill: #D2E3FC;\n",
              "      }\n",
              "\n",
              "      [theme=dark] .colab-df-generate:hover {\n",
              "        background-color: #434B5C;\n",
              "        box-shadow: 0px 1px 3px 1px rgba(0, 0, 0, 0.15);\n",
              "        filter: drop-shadow(0px 1px 2px rgba(0, 0, 0, 0.3));\n",
              "        fill: #FFFFFF;\n",
              "      }\n",
              "    </style>\n",
              "    <button class=\"colab-df-generate\" onclick=\"generateWithVariable('result_pd')\"\n",
              "            title=\"Generate code using this dataframe.\"\n",
              "            style=\"display:none;\">\n",
              "\n",
              "  <svg xmlns=\"http://www.w3.org/2000/svg\" height=\"24px\"viewBox=\"0 0 24 24\"\n",
              "       width=\"24px\">\n",
              "    <path d=\"M7,19H8.4L18.45,9,17,7.55,7,17.6ZM5,21V16.75L18.45,3.32a2,2,0,0,1,2.83,0l1.4,1.43a1.91,1.91,0,0,1,.58,1.4,1.91,1.91,0,0,1-.58,1.4L9.25,21ZM18.45,9,17,7.55Zm-12,3A5.31,5.31,0,0,0,4.9,8.1,5.31,5.31,0,0,0,1,6.5,5.31,5.31,0,0,0,4.9,4.9,5.31,5.31,0,0,0,6.5,1,5.31,5.31,0,0,0,8.1,4.9,5.31,5.31,0,0,0,12,6.5,5.46,5.46,0,0,0,6.5,12Z\"/>\n",
              "  </svg>\n",
              "    </button>\n",
              "    <script>\n",
              "      (() => {\n",
              "      const buttonEl =\n",
              "        document.querySelector('#id_377c82e4-9c05-4807-bb47-1c2f4fbaae13 button.colab-df-generate');\n",
              "      buttonEl.style.display =\n",
              "        google.colab.kernel.accessAllowed ? 'block' : 'none';\n",
              "\n",
              "      buttonEl.onclick = () => {\n",
              "        google.colab.notebook.generateWithVariable('result_pd');\n",
              "      }\n",
              "      })();\n",
              "    </script>\n",
              "  </div>\n",
              "\n",
              "    </div>\n",
              "  </div>\n"
            ],
            "application/vnd.google.colaboratory.intrinsic+json": {
              "type": "dataframe",
              "variable_name": "result_pd",
              "repr_error": "Out of range float values are not JSON compliant: nan"
            }
          },
          "metadata": {},
          "execution_count": 162
        }
      ]
    },
    {
      "cell_type": "code",
      "source": [
        "result_pd['4개은행_상위']=b4_top5.values\n",
        "result_pd['4개은행_하위']=b4_bottom5.values\n",
        "\n",
        "result_pd['시중은행_상위']=whole_top5.values\n",
        "result_pd['시중은행_하위']=whole_bottom5.values\n",
        "\n",
        "for k,v in bank_top_list.items():\n",
        "  result_pd[f'{k}은행_상위']=v.values\n",
        "\n",
        "for k,v in bank_bottom_list.items():\n",
        "  result_pd[f'{k}은행_하위']=v.values\n",
        "\n",
        "result_pd.reset_index()\n",
        "result_pd"
      ],
      "metadata": {
        "colab": {
          "base_uri": "https://localhost:8080/",
          "height": 241
        },
        "id": "gep4RCXaA9Sx",
        "outputId": "6ddadedd-04bb-48fb-ab7d-67ae395eeedb"
      },
      "execution_count": null,
      "outputs": [
        {
          "output_type": "execute_result",
          "data": {
            "text/plain": [
              "  시중은행_상위 4개은행_상위 국민은행_상위 신한은행_상위 하나은행_상위 우리은행_상위 시중은행_하위 4개은행_하위 국민은행_하위  \\\n",
              "0    오류2동    오류2동      길동      길동     가산동     제기동     용문동    화곡본동   노량진2동   \n",
              "1     송중동    등촌3동     용신동     회현동     용신동    잠실3동    신사2동    화곡2동     교남동   \n",
              "2     세곡동    화곡1동     진관동     진관동     회현동    망우본동    신사1동    화곡4동    도곡2동   \n",
              "3    신정3동     송중동    한강로동    천호2동     진관동    오류2동     구산동    가양3동    신길3동   \n",
              "4    사당2동    북아현동     신촌동     대조동    영등포동     충현동    상일2동    상일2동    신월6동   \n",
              "\n",
              "  신한은행_하위 하나은행_하위 우리은행_하위  \n",
              "0      명동     사직동    잠실6동  \n",
              "1      필동     삼청동    서초4동  \n",
              "2     가회동     가회동     삼청동  \n",
              "3    창신1동    삼성1동     가회동  \n",
              "4     소공동     회기동     중림동  "
            ],
            "text/html": [
              "\n",
              "  <div id=\"df-328948f5-ecf4-46b8-af03-d8f2727258c6\" class=\"colab-df-container\">\n",
              "    <div>\n",
              "<style scoped>\n",
              "    .dataframe tbody tr th:only-of-type {\n",
              "        vertical-align: middle;\n",
              "    }\n",
              "\n",
              "    .dataframe tbody tr th {\n",
              "        vertical-align: top;\n",
              "    }\n",
              "\n",
              "    .dataframe thead th {\n",
              "        text-align: right;\n",
              "    }\n",
              "</style>\n",
              "<table border=\"1\" class=\"dataframe\">\n",
              "  <thead>\n",
              "    <tr style=\"text-align: right;\">\n",
              "      <th></th>\n",
              "      <th>시중은행_상위</th>\n",
              "      <th>4개은행_상위</th>\n",
              "      <th>국민은행_상위</th>\n",
              "      <th>신한은행_상위</th>\n",
              "      <th>하나은행_상위</th>\n",
              "      <th>우리은행_상위</th>\n",
              "      <th>시중은행_하위</th>\n",
              "      <th>4개은행_하위</th>\n",
              "      <th>국민은행_하위</th>\n",
              "      <th>신한은행_하위</th>\n",
              "      <th>하나은행_하위</th>\n",
              "      <th>우리은행_하위</th>\n",
              "    </tr>\n",
              "  </thead>\n",
              "  <tbody>\n",
              "    <tr>\n",
              "      <th>0</th>\n",
              "      <td>오류2동</td>\n",
              "      <td>오류2동</td>\n",
              "      <td>길동</td>\n",
              "      <td>길동</td>\n",
              "      <td>가산동</td>\n",
              "      <td>제기동</td>\n",
              "      <td>용문동</td>\n",
              "      <td>화곡본동</td>\n",
              "      <td>노량진2동</td>\n",
              "      <td>명동</td>\n",
              "      <td>사직동</td>\n",
              "      <td>잠실6동</td>\n",
              "    </tr>\n",
              "    <tr>\n",
              "      <th>1</th>\n",
              "      <td>송중동</td>\n",
              "      <td>등촌3동</td>\n",
              "      <td>용신동</td>\n",
              "      <td>회현동</td>\n",
              "      <td>용신동</td>\n",
              "      <td>잠실3동</td>\n",
              "      <td>신사2동</td>\n",
              "      <td>화곡2동</td>\n",
              "      <td>교남동</td>\n",
              "      <td>필동</td>\n",
              "      <td>삼청동</td>\n",
              "      <td>서초4동</td>\n",
              "    </tr>\n",
              "    <tr>\n",
              "      <th>2</th>\n",
              "      <td>세곡동</td>\n",
              "      <td>화곡1동</td>\n",
              "      <td>진관동</td>\n",
              "      <td>진관동</td>\n",
              "      <td>회현동</td>\n",
              "      <td>망우본동</td>\n",
              "      <td>신사1동</td>\n",
              "      <td>화곡4동</td>\n",
              "      <td>도곡2동</td>\n",
              "      <td>가회동</td>\n",
              "      <td>가회동</td>\n",
              "      <td>삼청동</td>\n",
              "    </tr>\n",
              "    <tr>\n",
              "      <th>3</th>\n",
              "      <td>신정3동</td>\n",
              "      <td>송중동</td>\n",
              "      <td>한강로동</td>\n",
              "      <td>천호2동</td>\n",
              "      <td>진관동</td>\n",
              "      <td>오류2동</td>\n",
              "      <td>구산동</td>\n",
              "      <td>가양3동</td>\n",
              "      <td>신길3동</td>\n",
              "      <td>창신1동</td>\n",
              "      <td>삼성1동</td>\n",
              "      <td>가회동</td>\n",
              "    </tr>\n",
              "    <tr>\n",
              "      <th>4</th>\n",
              "      <td>사당2동</td>\n",
              "      <td>북아현동</td>\n",
              "      <td>신촌동</td>\n",
              "      <td>대조동</td>\n",
              "      <td>영등포동</td>\n",
              "      <td>충현동</td>\n",
              "      <td>상일2동</td>\n",
              "      <td>상일2동</td>\n",
              "      <td>신월6동</td>\n",
              "      <td>소공동</td>\n",
              "      <td>회기동</td>\n",
              "      <td>중림동</td>\n",
              "    </tr>\n",
              "  </tbody>\n",
              "</table>\n",
              "</div>\n",
              "    <div class=\"colab-df-buttons\">\n",
              "\n",
              "  <div class=\"colab-df-container\">\n",
              "    <button class=\"colab-df-convert\" onclick=\"convertToInteractive('df-328948f5-ecf4-46b8-af03-d8f2727258c6')\"\n",
              "            title=\"Convert this dataframe to an interactive table.\"\n",
              "            style=\"display:none;\">\n",
              "\n",
              "  <svg xmlns=\"http://www.w3.org/2000/svg\" height=\"24px\" viewBox=\"0 -960 960 960\">\n",
              "    <path d=\"M120-120v-720h720v720H120Zm60-500h600v-160H180v160Zm220 220h160v-160H400v160Zm0 220h160v-160H400v160ZM180-400h160v-160H180v160Zm440 0h160v-160H620v160ZM180-180h160v-160H180v160Zm440 0h160v-160H620v160Z\"/>\n",
              "  </svg>\n",
              "    </button>\n",
              "\n",
              "  <style>\n",
              "    .colab-df-container {\n",
              "      display:flex;\n",
              "      gap: 12px;\n",
              "    }\n",
              "\n",
              "    .colab-df-convert {\n",
              "      background-color: #E8F0FE;\n",
              "      border: none;\n",
              "      border-radius: 50%;\n",
              "      cursor: pointer;\n",
              "      display: none;\n",
              "      fill: #1967D2;\n",
              "      height: 32px;\n",
              "      padding: 0 0 0 0;\n",
              "      width: 32px;\n",
              "    }\n",
              "\n",
              "    .colab-df-convert:hover {\n",
              "      background-color: #E2EBFA;\n",
              "      box-shadow: 0px 1px 2px rgba(60, 64, 67, 0.3), 0px 1px 3px 1px rgba(60, 64, 67, 0.15);\n",
              "      fill: #174EA6;\n",
              "    }\n",
              "\n",
              "    .colab-df-buttons div {\n",
              "      margin-bottom: 4px;\n",
              "    }\n",
              "\n",
              "    [theme=dark] .colab-df-convert {\n",
              "      background-color: #3B4455;\n",
              "      fill: #D2E3FC;\n",
              "    }\n",
              "\n",
              "    [theme=dark] .colab-df-convert:hover {\n",
              "      background-color: #434B5C;\n",
              "      box-shadow: 0px 1px 3px 1px rgba(0, 0, 0, 0.15);\n",
              "      filter: drop-shadow(0px 1px 2px rgba(0, 0, 0, 0.3));\n",
              "      fill: #FFFFFF;\n",
              "    }\n",
              "  </style>\n",
              "\n",
              "    <script>\n",
              "      const buttonEl =\n",
              "        document.querySelector('#df-328948f5-ecf4-46b8-af03-d8f2727258c6 button.colab-df-convert');\n",
              "      buttonEl.style.display =\n",
              "        google.colab.kernel.accessAllowed ? 'block' : 'none';\n",
              "\n",
              "      async function convertToInteractive(key) {\n",
              "        const element = document.querySelector('#df-328948f5-ecf4-46b8-af03-d8f2727258c6');\n",
              "        const dataTable =\n",
              "          await google.colab.kernel.invokeFunction('convertToInteractive',\n",
              "                                                    [key], {});\n",
              "        if (!dataTable) return;\n",
              "\n",
              "        const docLinkHtml = 'Like what you see? Visit the ' +\n",
              "          '<a target=\"_blank\" href=https://colab.research.google.com/notebooks/data_table.ipynb>data table notebook</a>'\n",
              "          + ' to learn more about interactive tables.';\n",
              "        element.innerHTML = '';\n",
              "        dataTable['output_type'] = 'display_data';\n",
              "        await google.colab.output.renderOutput(dataTable, element);\n",
              "        const docLink = document.createElement('div');\n",
              "        docLink.innerHTML = docLinkHtml;\n",
              "        element.appendChild(docLink);\n",
              "      }\n",
              "    </script>\n",
              "  </div>\n",
              "\n",
              "\n",
              "<div id=\"df-c5dc939f-8b0d-49f5-b5b0-1e4f560fbcb1\">\n",
              "  <button class=\"colab-df-quickchart\" onclick=\"quickchart('df-c5dc939f-8b0d-49f5-b5b0-1e4f560fbcb1')\"\n",
              "            title=\"Suggest charts\"\n",
              "            style=\"display:none;\">\n",
              "\n",
              "<svg xmlns=\"http://www.w3.org/2000/svg\" height=\"24px\"viewBox=\"0 0 24 24\"\n",
              "     width=\"24px\">\n",
              "    <g>\n",
              "        <path d=\"M19 3H5c-1.1 0-2 .9-2 2v14c0 1.1.9 2 2 2h14c1.1 0 2-.9 2-2V5c0-1.1-.9-2-2-2zM9 17H7v-7h2v7zm4 0h-2V7h2v10zm4 0h-2v-4h2v4z\"/>\n",
              "    </g>\n",
              "</svg>\n",
              "  </button>\n",
              "\n",
              "<style>\n",
              "  .colab-df-quickchart {\n",
              "      --bg-color: #E8F0FE;\n",
              "      --fill-color: #1967D2;\n",
              "      --hover-bg-color: #E2EBFA;\n",
              "      --hover-fill-color: #174EA6;\n",
              "      --disabled-fill-color: #AAA;\n",
              "      --disabled-bg-color: #DDD;\n",
              "  }\n",
              "\n",
              "  [theme=dark] .colab-df-quickchart {\n",
              "      --bg-color: #3B4455;\n",
              "      --fill-color: #D2E3FC;\n",
              "      --hover-bg-color: #434B5C;\n",
              "      --hover-fill-color: #FFFFFF;\n",
              "      --disabled-bg-color: #3B4455;\n",
              "      --disabled-fill-color: #666;\n",
              "  }\n",
              "\n",
              "  .colab-df-quickchart {\n",
              "    background-color: var(--bg-color);\n",
              "    border: none;\n",
              "    border-radius: 50%;\n",
              "    cursor: pointer;\n",
              "    display: none;\n",
              "    fill: var(--fill-color);\n",
              "    height: 32px;\n",
              "    padding: 0;\n",
              "    width: 32px;\n",
              "  }\n",
              "\n",
              "  .colab-df-quickchart:hover {\n",
              "    background-color: var(--hover-bg-color);\n",
              "    box-shadow: 0 1px 2px rgba(60, 64, 67, 0.3), 0 1px 3px 1px rgba(60, 64, 67, 0.15);\n",
              "    fill: var(--button-hover-fill-color);\n",
              "  }\n",
              "\n",
              "  .colab-df-quickchart-complete:disabled,\n",
              "  .colab-df-quickchart-complete:disabled:hover {\n",
              "    background-color: var(--disabled-bg-color);\n",
              "    fill: var(--disabled-fill-color);\n",
              "    box-shadow: none;\n",
              "  }\n",
              "\n",
              "  .colab-df-spinner {\n",
              "    border: 2px solid var(--fill-color);\n",
              "    border-color: transparent;\n",
              "    border-bottom-color: var(--fill-color);\n",
              "    animation:\n",
              "      spin 1s steps(1) infinite;\n",
              "  }\n",
              "\n",
              "  @keyframes spin {\n",
              "    0% {\n",
              "      border-color: transparent;\n",
              "      border-bottom-color: var(--fill-color);\n",
              "      border-left-color: var(--fill-color);\n",
              "    }\n",
              "    20% {\n",
              "      border-color: transparent;\n",
              "      border-left-color: var(--fill-color);\n",
              "      border-top-color: var(--fill-color);\n",
              "    }\n",
              "    30% {\n",
              "      border-color: transparent;\n",
              "      border-left-color: var(--fill-color);\n",
              "      border-top-color: var(--fill-color);\n",
              "      border-right-color: var(--fill-color);\n",
              "    }\n",
              "    40% {\n",
              "      border-color: transparent;\n",
              "      border-right-color: var(--fill-color);\n",
              "      border-top-color: var(--fill-color);\n",
              "    }\n",
              "    60% {\n",
              "      border-color: transparent;\n",
              "      border-right-color: var(--fill-color);\n",
              "    }\n",
              "    80% {\n",
              "      border-color: transparent;\n",
              "      border-right-color: var(--fill-color);\n",
              "      border-bottom-color: var(--fill-color);\n",
              "    }\n",
              "    90% {\n",
              "      border-color: transparent;\n",
              "      border-bottom-color: var(--fill-color);\n",
              "    }\n",
              "  }\n",
              "</style>\n",
              "\n",
              "  <script>\n",
              "    async function quickchart(key) {\n",
              "      const quickchartButtonEl =\n",
              "        document.querySelector('#' + key + ' button');\n",
              "      quickchartButtonEl.disabled = true;  // To prevent multiple clicks.\n",
              "      quickchartButtonEl.classList.add('colab-df-spinner');\n",
              "      try {\n",
              "        const charts = await google.colab.kernel.invokeFunction(\n",
              "            'suggestCharts', [key], {});\n",
              "      } catch (error) {\n",
              "        console.error('Error during call to suggestCharts:', error);\n",
              "      }\n",
              "      quickchartButtonEl.classList.remove('colab-df-spinner');\n",
              "      quickchartButtonEl.classList.add('colab-df-quickchart-complete');\n",
              "    }\n",
              "    (() => {\n",
              "      let quickchartButtonEl =\n",
              "        document.querySelector('#df-c5dc939f-8b0d-49f5-b5b0-1e4f560fbcb1 button');\n",
              "      quickchartButtonEl.style.display =\n",
              "        google.colab.kernel.accessAllowed ? 'block' : 'none';\n",
              "    })();\n",
              "  </script>\n",
              "</div>\n",
              "\n",
              "  <div id=\"id_6b1b93a5-ac59-4c6a-9dac-a39126a11539\">\n",
              "    <style>\n",
              "      .colab-df-generate {\n",
              "        background-color: #E8F0FE;\n",
              "        border: none;\n",
              "        border-radius: 50%;\n",
              "        cursor: pointer;\n",
              "        display: none;\n",
              "        fill: #1967D2;\n",
              "        height: 32px;\n",
              "        padding: 0 0 0 0;\n",
              "        width: 32px;\n",
              "      }\n",
              "\n",
              "      .colab-df-generate:hover {\n",
              "        background-color: #E2EBFA;\n",
              "        box-shadow: 0px 1px 2px rgba(60, 64, 67, 0.3), 0px 1px 3px 1px rgba(60, 64, 67, 0.15);\n",
              "        fill: #174EA6;\n",
              "      }\n",
              "\n",
              "      [theme=dark] .colab-df-generate {\n",
              "        background-color: #3B4455;\n",
              "        fill: #D2E3FC;\n",
              "      }\n",
              "\n",
              "      [theme=dark] .colab-df-generate:hover {\n",
              "        background-color: #434B5C;\n",
              "        box-shadow: 0px 1px 3px 1px rgba(0, 0, 0, 0.15);\n",
              "        filter: drop-shadow(0px 1px 2px rgba(0, 0, 0, 0.3));\n",
              "        fill: #FFFFFF;\n",
              "      }\n",
              "    </style>\n",
              "    <button class=\"colab-df-generate\" onclick=\"generateWithVariable('result_pd')\"\n",
              "            title=\"Generate code using this dataframe.\"\n",
              "            style=\"display:none;\">\n",
              "\n",
              "  <svg xmlns=\"http://www.w3.org/2000/svg\" height=\"24px\"viewBox=\"0 0 24 24\"\n",
              "       width=\"24px\">\n",
              "    <path d=\"M7,19H8.4L18.45,9,17,7.55,7,17.6ZM5,21V16.75L18.45,3.32a2,2,0,0,1,2.83,0l1.4,1.43a1.91,1.91,0,0,1,.58,1.4,1.91,1.91,0,0,1-.58,1.4L9.25,21ZM18.45,9,17,7.55Zm-12,3A5.31,5.31,0,0,0,4.9,8.1,5.31,5.31,0,0,0,1,6.5,5.31,5.31,0,0,0,4.9,4.9,5.31,5.31,0,0,0,6.5,1,5.31,5.31,0,0,0,8.1,4.9,5.31,5.31,0,0,0,12,6.5,5.46,5.46,0,0,0,6.5,12Z\"/>\n",
              "  </svg>\n",
              "    </button>\n",
              "    <script>\n",
              "      (() => {\n",
              "      const buttonEl =\n",
              "        document.querySelector('#id_6b1b93a5-ac59-4c6a-9dac-a39126a11539 button.colab-df-generate');\n",
              "      buttonEl.style.display =\n",
              "        google.colab.kernel.accessAllowed ? 'block' : 'none';\n",
              "\n",
              "      buttonEl.onclick = () => {\n",
              "        google.colab.notebook.generateWithVariable('result_pd');\n",
              "      }\n",
              "      })();\n",
              "    </script>\n",
              "  </div>\n",
              "\n",
              "    </div>\n",
              "  </div>\n"
            ],
            "application/vnd.google.colaboratory.intrinsic+json": {
              "type": "dataframe",
              "variable_name": "result_pd",
              "summary": "{\n  \"name\": \"result_pd\",\n  \"rows\": 5,\n  \"fields\": [\n    {\n      \"column\": \"\\uc2dc\\uc911\\uc740\\ud589_\\uc0c1\\uc704\",\n      \"properties\": {\n        \"dtype\": \"string\",\n        \"num_unique_values\": 5,\n        \"samples\": [\n          \"\\uc1a1\\uc911\\ub3d9\",\n          \"\\uc0ac\\ub2f92\\ub3d9\",\n          \"\\uc138\\uace1\\ub3d9\"\n        ],\n        \"semantic_type\": \"\",\n        \"description\": \"\"\n      }\n    },\n    {\n      \"column\": \"4\\uac1c\\uc740\\ud589_\\uc0c1\\uc704\",\n      \"properties\": {\n        \"dtype\": \"string\",\n        \"num_unique_values\": 5,\n        \"samples\": [\n          \"\\ub4f1\\ucd0c3\\ub3d9\",\n          \"\\ubd81\\uc544\\ud604\\ub3d9\",\n          \"\\ud654\\uace11\\ub3d9\"\n        ],\n        \"semantic_type\": \"\",\n        \"description\": \"\"\n      }\n    },\n    {\n      \"column\": \"\\uad6d\\ubbfc\\uc740\\ud589_\\uc0c1\\uc704\",\n      \"properties\": {\n        \"dtype\": \"string\",\n        \"num_unique_values\": 5,\n        \"samples\": [\n          \"\\uc6a9\\uc2e0\\ub3d9\",\n          \"\\uc2e0\\ucd0c\\ub3d9\",\n          \"\\uc9c4\\uad00\\ub3d9\"\n        ],\n        \"semantic_type\": \"\",\n        \"description\": \"\"\n      }\n    },\n    {\n      \"column\": \"\\uc2e0\\ud55c\\uc740\\ud589_\\uc0c1\\uc704\",\n      \"properties\": {\n        \"dtype\": \"string\",\n        \"num_unique_values\": 5,\n        \"samples\": [\n          \"\\ud68c\\ud604\\ub3d9\",\n          \"\\ub300\\uc870\\ub3d9\",\n          \"\\uc9c4\\uad00\\ub3d9\"\n        ],\n        \"semantic_type\": \"\",\n        \"description\": \"\"\n      }\n    },\n    {\n      \"column\": \"\\ud558\\ub098\\uc740\\ud589_\\uc0c1\\uc704\",\n      \"properties\": {\n        \"dtype\": \"string\",\n        \"num_unique_values\": 5,\n        \"samples\": [\n          \"\\uc6a9\\uc2e0\\ub3d9\",\n          \"\\uc601\\ub4f1\\ud3ec\\ub3d9\",\n          \"\\ud68c\\ud604\\ub3d9\"\n        ],\n        \"semantic_type\": \"\",\n        \"description\": \"\"\n      }\n    },\n    {\n      \"column\": \"\\uc6b0\\ub9ac\\uc740\\ud589_\\uc0c1\\uc704\",\n      \"properties\": {\n        \"dtype\": \"string\",\n        \"num_unique_values\": 5,\n        \"samples\": [\n          \"\\uc7a0\\uc2e43\\ub3d9\",\n          \"\\ucda9\\ud604\\ub3d9\",\n          \"\\ub9dd\\uc6b0\\ubcf8\\ub3d9\"\n        ],\n        \"semantic_type\": \"\",\n        \"description\": \"\"\n      }\n    },\n    {\n      \"column\": \"\\uc2dc\\uc911\\uc740\\ud589_\\ud558\\uc704\",\n      \"properties\": {\n        \"dtype\": \"string\",\n        \"num_unique_values\": 5,\n        \"samples\": [\n          \"\\uc2e0\\uc0ac2\\ub3d9\",\n          \"\\uc0c1\\uc77c2\\ub3d9\",\n          \"\\uc2e0\\uc0ac1\\ub3d9\"\n        ],\n        \"semantic_type\": \"\",\n        \"description\": \"\"\n      }\n    },\n    {\n      \"column\": \"4\\uac1c\\uc740\\ud589_\\ud558\\uc704\",\n      \"properties\": {\n        \"dtype\": \"string\",\n        \"num_unique_values\": 5,\n        \"samples\": [\n          \"\\ud654\\uace12\\ub3d9\",\n          \"\\uc0c1\\uc77c2\\ub3d9\",\n          \"\\ud654\\uace14\\ub3d9\"\n        ],\n        \"semantic_type\": \"\",\n        \"description\": \"\"\n      }\n    },\n    {\n      \"column\": \"\\uad6d\\ubbfc\\uc740\\ud589_\\ud558\\uc704\",\n      \"properties\": {\n        \"dtype\": \"string\",\n        \"num_unique_values\": 5,\n        \"samples\": [\n          \"\\uad50\\ub0a8\\ub3d9\",\n          \"\\uc2e0\\uc6d46\\ub3d9\",\n          \"\\ub3c4\\uace12\\ub3d9\"\n        ],\n        \"semantic_type\": \"\",\n        \"description\": \"\"\n      }\n    },\n    {\n      \"column\": \"\\uc2e0\\ud55c\\uc740\\ud589_\\ud558\\uc704\",\n      \"properties\": {\n        \"dtype\": \"string\",\n        \"num_unique_values\": 5,\n        \"samples\": [\n          \"\\ud544\\ub3d9\",\n          \"\\uc18c\\uacf5\\ub3d9\",\n          \"\\uac00\\ud68c\\ub3d9\"\n        ],\n        \"semantic_type\": \"\",\n        \"description\": \"\"\n      }\n    },\n    {\n      \"column\": \"\\ud558\\ub098\\uc740\\ud589_\\ud558\\uc704\",\n      \"properties\": {\n        \"dtype\": \"string\",\n        \"num_unique_values\": 5,\n        \"samples\": [\n          \"\\uc0bc\\uccad\\ub3d9\",\n          \"\\ud68c\\uae30\\ub3d9\",\n          \"\\uac00\\ud68c\\ub3d9\"\n        ],\n        \"semantic_type\": \"\",\n        \"description\": \"\"\n      }\n    },\n    {\n      \"column\": \"\\uc6b0\\ub9ac\\uc740\\ud589_\\ud558\\uc704\",\n      \"properties\": {\n        \"dtype\": \"string\",\n        \"num_unique_values\": 5,\n        \"samples\": [\n          \"\\uc11c\\ucd084\\ub3d9\",\n          \"\\uc911\\ub9bc\\ub3d9\",\n          \"\\uc0bc\\uccad\\ub3d9\"\n        ],\n        \"semantic_type\": \"\",\n        \"description\": \"\"\n      }\n    }\n  ]\n}"
            }
          },
          "metadata": {},
          "execution_count": 163
        }
      ]
    },
    {
      "cell_type": "code",
      "source": [
        "b4_top_freq=pd.Series(result_pd.loc[:,[\"국민은행_상위\",\"신한은행_상위\",\"하나은행_상위\",\"우리은행_상위\"]].values.flatten()).value_counts()\n",
        "b4_bottom_freq=pd.Series(result_pd.loc[:,[\"국민은행_하위\",\"신한은행_하위\",\"하나은행_하위\",\"우리은행_하위\"]].values.flatten()).value_counts()"
      ],
      "metadata": {
        "id": "yNJqmGcJEd1_"
      },
      "execution_count": null,
      "outputs": []
    },
    {
      "cell_type": "code",
      "source": [
        "b4_top_freq[:5]"
      ],
      "metadata": {
        "colab": {
          "base_uri": "https://localhost:8080/"
        },
        "id": "tWWuY8PRGzsw",
        "outputId": "527cb299-670e-4565-e724-de3bc8dad860"
      },
      "execution_count": null,
      "outputs": [
        {
          "output_type": "execute_result",
          "data": {
            "text/plain": [
              "진관동    3\n",
              "길동     2\n",
              "용신동    2\n",
              "회현동    2\n",
              "가산동    1\n",
              "Name: count, dtype: int64"
            ]
          },
          "metadata": {},
          "execution_count": 189
        }
      ]
    },
    {
      "cell_type": "code",
      "source": [
        "b4_bottom_freq[:5]"
      ],
      "metadata": {
        "colab": {
          "base_uri": "https://localhost:8080/"
        },
        "id": "dBKqx-QvG2Eg",
        "outputId": "cf496163-5eb0-4d4d-af82-eb9710f32e03"
      },
      "execution_count": null,
      "outputs": [
        {
          "output_type": "execute_result",
          "data": {
            "text/plain": [
              "가회동      3\n",
              "삼청동      2\n",
              "노량진2동    1\n",
              "회기동      1\n",
              "소공동      1\n",
              "Name: count, dtype: int64"
            ]
          },
          "metadata": {},
          "execution_count": 183
        }
      ]
    },
    {
      "cell_type": "code",
      "source": [
        "result_pd[\"4개은행_개별_상위\"]=b4_top_freq[:5].index\n",
        "result_pd[\"4개은행_개별_하위\"]=b4_bottom_freq[:5].index\n",
        "result_pd"
      ],
      "metadata": {
        "colab": {
          "base_uri": "https://localhost:8080/",
          "height": 328
        },
        "id": "0HU7l8bqHn3f",
        "outputId": "ee0bd3d9-aa52-4f94-9025-15eadbc5d0a8"
      },
      "execution_count": null,
      "outputs": [
        {
          "output_type": "execute_result",
          "data": {
            "text/plain": [
              "  시중은행_상위 4개은행_상위 국민은행_상위 신한은행_상위 하나은행_상위 우리은행_상위 시중은행_하위 4개은행_하위 국민은행_하위  \\\n",
              "0    오류2동    오류2동      길동      길동     가산동     제기동     용문동    화곡본동   노량진2동   \n",
              "1     송중동    등촌3동     용신동     회현동     용신동    잠실3동    신사2동    화곡2동     교남동   \n",
              "2     세곡동    화곡1동     진관동     진관동     회현동    망우본동    신사1동    화곡4동    도곡2동   \n",
              "3    신정3동     송중동    한강로동    천호2동     진관동    오류2동     구산동    가양3동    신길3동   \n",
              "4    사당2동    북아현동     신촌동     대조동    영등포동     충현동    상일2동    상일2동    신월6동   \n",
              "\n",
              "  신한은행_하위 하나은행_하위 우리은행_하위 4개은행_개별_상위 4개은행_개별_하위  \n",
              "0      명동     사직동    잠실6동        진관동        가회동  \n",
              "1      필동     삼청동    서초4동         길동        삼청동  \n",
              "2     가회동     가회동     삼청동        용신동      노량진2동  \n",
              "3    창신1동    삼성1동     가회동        회현동        회기동  \n",
              "4     소공동     회기동     중림동        가산동        소공동  "
            ],
            "text/html": [
              "\n",
              "  <div id=\"df-f1756c28-bb6b-47d5-b627-1b51fc0236e1\" class=\"colab-df-container\">\n",
              "    <div>\n",
              "<style scoped>\n",
              "    .dataframe tbody tr th:only-of-type {\n",
              "        vertical-align: middle;\n",
              "    }\n",
              "\n",
              "    .dataframe tbody tr th {\n",
              "        vertical-align: top;\n",
              "    }\n",
              "\n",
              "    .dataframe thead th {\n",
              "        text-align: right;\n",
              "    }\n",
              "</style>\n",
              "<table border=\"1\" class=\"dataframe\">\n",
              "  <thead>\n",
              "    <tr style=\"text-align: right;\">\n",
              "      <th></th>\n",
              "      <th>시중은행_상위</th>\n",
              "      <th>4개은행_상위</th>\n",
              "      <th>국민은행_상위</th>\n",
              "      <th>신한은행_상위</th>\n",
              "      <th>하나은행_상위</th>\n",
              "      <th>우리은행_상위</th>\n",
              "      <th>시중은행_하위</th>\n",
              "      <th>4개은행_하위</th>\n",
              "      <th>국민은행_하위</th>\n",
              "      <th>신한은행_하위</th>\n",
              "      <th>하나은행_하위</th>\n",
              "      <th>우리은행_하위</th>\n",
              "      <th>4개은행_개별_상위</th>\n",
              "      <th>4개은행_개별_하위</th>\n",
              "    </tr>\n",
              "  </thead>\n",
              "  <tbody>\n",
              "    <tr>\n",
              "      <th>0</th>\n",
              "      <td>오류2동</td>\n",
              "      <td>오류2동</td>\n",
              "      <td>길동</td>\n",
              "      <td>길동</td>\n",
              "      <td>가산동</td>\n",
              "      <td>제기동</td>\n",
              "      <td>용문동</td>\n",
              "      <td>화곡본동</td>\n",
              "      <td>노량진2동</td>\n",
              "      <td>명동</td>\n",
              "      <td>사직동</td>\n",
              "      <td>잠실6동</td>\n",
              "      <td>진관동</td>\n",
              "      <td>가회동</td>\n",
              "    </tr>\n",
              "    <tr>\n",
              "      <th>1</th>\n",
              "      <td>송중동</td>\n",
              "      <td>등촌3동</td>\n",
              "      <td>용신동</td>\n",
              "      <td>회현동</td>\n",
              "      <td>용신동</td>\n",
              "      <td>잠실3동</td>\n",
              "      <td>신사2동</td>\n",
              "      <td>화곡2동</td>\n",
              "      <td>교남동</td>\n",
              "      <td>필동</td>\n",
              "      <td>삼청동</td>\n",
              "      <td>서초4동</td>\n",
              "      <td>길동</td>\n",
              "      <td>삼청동</td>\n",
              "    </tr>\n",
              "    <tr>\n",
              "      <th>2</th>\n",
              "      <td>세곡동</td>\n",
              "      <td>화곡1동</td>\n",
              "      <td>진관동</td>\n",
              "      <td>진관동</td>\n",
              "      <td>회현동</td>\n",
              "      <td>망우본동</td>\n",
              "      <td>신사1동</td>\n",
              "      <td>화곡4동</td>\n",
              "      <td>도곡2동</td>\n",
              "      <td>가회동</td>\n",
              "      <td>가회동</td>\n",
              "      <td>삼청동</td>\n",
              "      <td>용신동</td>\n",
              "      <td>노량진2동</td>\n",
              "    </tr>\n",
              "    <tr>\n",
              "      <th>3</th>\n",
              "      <td>신정3동</td>\n",
              "      <td>송중동</td>\n",
              "      <td>한강로동</td>\n",
              "      <td>천호2동</td>\n",
              "      <td>진관동</td>\n",
              "      <td>오류2동</td>\n",
              "      <td>구산동</td>\n",
              "      <td>가양3동</td>\n",
              "      <td>신길3동</td>\n",
              "      <td>창신1동</td>\n",
              "      <td>삼성1동</td>\n",
              "      <td>가회동</td>\n",
              "      <td>회현동</td>\n",
              "      <td>회기동</td>\n",
              "    </tr>\n",
              "    <tr>\n",
              "      <th>4</th>\n",
              "      <td>사당2동</td>\n",
              "      <td>북아현동</td>\n",
              "      <td>신촌동</td>\n",
              "      <td>대조동</td>\n",
              "      <td>영등포동</td>\n",
              "      <td>충현동</td>\n",
              "      <td>상일2동</td>\n",
              "      <td>상일2동</td>\n",
              "      <td>신월6동</td>\n",
              "      <td>소공동</td>\n",
              "      <td>회기동</td>\n",
              "      <td>중림동</td>\n",
              "      <td>가산동</td>\n",
              "      <td>소공동</td>\n",
              "    </tr>\n",
              "  </tbody>\n",
              "</table>\n",
              "</div>\n",
              "    <div class=\"colab-df-buttons\">\n",
              "\n",
              "  <div class=\"colab-df-container\">\n",
              "    <button class=\"colab-df-convert\" onclick=\"convertToInteractive('df-f1756c28-bb6b-47d5-b627-1b51fc0236e1')\"\n",
              "            title=\"Convert this dataframe to an interactive table.\"\n",
              "            style=\"display:none;\">\n",
              "\n",
              "  <svg xmlns=\"http://www.w3.org/2000/svg\" height=\"24px\" viewBox=\"0 -960 960 960\">\n",
              "    <path d=\"M120-120v-720h720v720H120Zm60-500h600v-160H180v160Zm220 220h160v-160H400v160Zm0 220h160v-160H400v160ZM180-400h160v-160H180v160Zm440 0h160v-160H620v160ZM180-180h160v-160H180v160Zm440 0h160v-160H620v160Z\"/>\n",
              "  </svg>\n",
              "    </button>\n",
              "\n",
              "  <style>\n",
              "    .colab-df-container {\n",
              "      display:flex;\n",
              "      gap: 12px;\n",
              "    }\n",
              "\n",
              "    .colab-df-convert {\n",
              "      background-color: #E8F0FE;\n",
              "      border: none;\n",
              "      border-radius: 50%;\n",
              "      cursor: pointer;\n",
              "      display: none;\n",
              "      fill: #1967D2;\n",
              "      height: 32px;\n",
              "      padding: 0 0 0 0;\n",
              "      width: 32px;\n",
              "    }\n",
              "\n",
              "    .colab-df-convert:hover {\n",
              "      background-color: #E2EBFA;\n",
              "      box-shadow: 0px 1px 2px rgba(60, 64, 67, 0.3), 0px 1px 3px 1px rgba(60, 64, 67, 0.15);\n",
              "      fill: #174EA6;\n",
              "    }\n",
              "\n",
              "    .colab-df-buttons div {\n",
              "      margin-bottom: 4px;\n",
              "    }\n",
              "\n",
              "    [theme=dark] .colab-df-convert {\n",
              "      background-color: #3B4455;\n",
              "      fill: #D2E3FC;\n",
              "    }\n",
              "\n",
              "    [theme=dark] .colab-df-convert:hover {\n",
              "      background-color: #434B5C;\n",
              "      box-shadow: 0px 1px 3px 1px rgba(0, 0, 0, 0.15);\n",
              "      filter: drop-shadow(0px 1px 2px rgba(0, 0, 0, 0.3));\n",
              "      fill: #FFFFFF;\n",
              "    }\n",
              "  </style>\n",
              "\n",
              "    <script>\n",
              "      const buttonEl =\n",
              "        document.querySelector('#df-f1756c28-bb6b-47d5-b627-1b51fc0236e1 button.colab-df-convert');\n",
              "      buttonEl.style.display =\n",
              "        google.colab.kernel.accessAllowed ? 'block' : 'none';\n",
              "\n",
              "      async function convertToInteractive(key) {\n",
              "        const element = document.querySelector('#df-f1756c28-bb6b-47d5-b627-1b51fc0236e1');\n",
              "        const dataTable =\n",
              "          await google.colab.kernel.invokeFunction('convertToInteractive',\n",
              "                                                    [key], {});\n",
              "        if (!dataTable) return;\n",
              "\n",
              "        const docLinkHtml = 'Like what you see? Visit the ' +\n",
              "          '<a target=\"_blank\" href=https://colab.research.google.com/notebooks/data_table.ipynb>data table notebook</a>'\n",
              "          + ' to learn more about interactive tables.';\n",
              "        element.innerHTML = '';\n",
              "        dataTable['output_type'] = 'display_data';\n",
              "        await google.colab.output.renderOutput(dataTable, element);\n",
              "        const docLink = document.createElement('div');\n",
              "        docLink.innerHTML = docLinkHtml;\n",
              "        element.appendChild(docLink);\n",
              "      }\n",
              "    </script>\n",
              "  </div>\n",
              "\n",
              "\n",
              "<div id=\"df-a4c3ee60-c05f-4a0f-9be9-d68e0ebc3a4f\">\n",
              "  <button class=\"colab-df-quickchart\" onclick=\"quickchart('df-a4c3ee60-c05f-4a0f-9be9-d68e0ebc3a4f')\"\n",
              "            title=\"Suggest charts\"\n",
              "            style=\"display:none;\">\n",
              "\n",
              "<svg xmlns=\"http://www.w3.org/2000/svg\" height=\"24px\"viewBox=\"0 0 24 24\"\n",
              "     width=\"24px\">\n",
              "    <g>\n",
              "        <path d=\"M19 3H5c-1.1 0-2 .9-2 2v14c0 1.1.9 2 2 2h14c1.1 0 2-.9 2-2V5c0-1.1-.9-2-2-2zM9 17H7v-7h2v7zm4 0h-2V7h2v10zm4 0h-2v-4h2v4z\"/>\n",
              "    </g>\n",
              "</svg>\n",
              "  </button>\n",
              "\n",
              "<style>\n",
              "  .colab-df-quickchart {\n",
              "      --bg-color: #E8F0FE;\n",
              "      --fill-color: #1967D2;\n",
              "      --hover-bg-color: #E2EBFA;\n",
              "      --hover-fill-color: #174EA6;\n",
              "      --disabled-fill-color: #AAA;\n",
              "      --disabled-bg-color: #DDD;\n",
              "  }\n",
              "\n",
              "  [theme=dark] .colab-df-quickchart {\n",
              "      --bg-color: #3B4455;\n",
              "      --fill-color: #D2E3FC;\n",
              "      --hover-bg-color: #434B5C;\n",
              "      --hover-fill-color: #FFFFFF;\n",
              "      --disabled-bg-color: #3B4455;\n",
              "      --disabled-fill-color: #666;\n",
              "  }\n",
              "\n",
              "  .colab-df-quickchart {\n",
              "    background-color: var(--bg-color);\n",
              "    border: none;\n",
              "    border-radius: 50%;\n",
              "    cursor: pointer;\n",
              "    display: none;\n",
              "    fill: var(--fill-color);\n",
              "    height: 32px;\n",
              "    padding: 0;\n",
              "    width: 32px;\n",
              "  }\n",
              "\n",
              "  .colab-df-quickchart:hover {\n",
              "    background-color: var(--hover-bg-color);\n",
              "    box-shadow: 0 1px 2px rgba(60, 64, 67, 0.3), 0 1px 3px 1px rgba(60, 64, 67, 0.15);\n",
              "    fill: var(--button-hover-fill-color);\n",
              "  }\n",
              "\n",
              "  .colab-df-quickchart-complete:disabled,\n",
              "  .colab-df-quickchart-complete:disabled:hover {\n",
              "    background-color: var(--disabled-bg-color);\n",
              "    fill: var(--disabled-fill-color);\n",
              "    box-shadow: none;\n",
              "  }\n",
              "\n",
              "  .colab-df-spinner {\n",
              "    border: 2px solid var(--fill-color);\n",
              "    border-color: transparent;\n",
              "    border-bottom-color: var(--fill-color);\n",
              "    animation:\n",
              "      spin 1s steps(1) infinite;\n",
              "  }\n",
              "\n",
              "  @keyframes spin {\n",
              "    0% {\n",
              "      border-color: transparent;\n",
              "      border-bottom-color: var(--fill-color);\n",
              "      border-left-color: var(--fill-color);\n",
              "    }\n",
              "    20% {\n",
              "      border-color: transparent;\n",
              "      border-left-color: var(--fill-color);\n",
              "      border-top-color: var(--fill-color);\n",
              "    }\n",
              "    30% {\n",
              "      border-color: transparent;\n",
              "      border-left-color: var(--fill-color);\n",
              "      border-top-color: var(--fill-color);\n",
              "      border-right-color: var(--fill-color);\n",
              "    }\n",
              "    40% {\n",
              "      border-color: transparent;\n",
              "      border-right-color: var(--fill-color);\n",
              "      border-top-color: var(--fill-color);\n",
              "    }\n",
              "    60% {\n",
              "      border-color: transparent;\n",
              "      border-right-color: var(--fill-color);\n",
              "    }\n",
              "    80% {\n",
              "      border-color: transparent;\n",
              "      border-right-color: var(--fill-color);\n",
              "      border-bottom-color: var(--fill-color);\n",
              "    }\n",
              "    90% {\n",
              "      border-color: transparent;\n",
              "      border-bottom-color: var(--fill-color);\n",
              "    }\n",
              "  }\n",
              "</style>\n",
              "\n",
              "  <script>\n",
              "    async function quickchart(key) {\n",
              "      const quickchartButtonEl =\n",
              "        document.querySelector('#' + key + ' button');\n",
              "      quickchartButtonEl.disabled = true;  // To prevent multiple clicks.\n",
              "      quickchartButtonEl.classList.add('colab-df-spinner');\n",
              "      try {\n",
              "        const charts = await google.colab.kernel.invokeFunction(\n",
              "            'suggestCharts', [key], {});\n",
              "      } catch (error) {\n",
              "        console.error('Error during call to suggestCharts:', error);\n",
              "      }\n",
              "      quickchartButtonEl.classList.remove('colab-df-spinner');\n",
              "      quickchartButtonEl.classList.add('colab-df-quickchart-complete');\n",
              "    }\n",
              "    (() => {\n",
              "      let quickchartButtonEl =\n",
              "        document.querySelector('#df-a4c3ee60-c05f-4a0f-9be9-d68e0ebc3a4f button');\n",
              "      quickchartButtonEl.style.display =\n",
              "        google.colab.kernel.accessAllowed ? 'block' : 'none';\n",
              "    })();\n",
              "  </script>\n",
              "</div>\n",
              "\n",
              "  <div id=\"id_01852979-c9bb-4ae3-b10c-273ed4c100bb\">\n",
              "    <style>\n",
              "      .colab-df-generate {\n",
              "        background-color: #E8F0FE;\n",
              "        border: none;\n",
              "        border-radius: 50%;\n",
              "        cursor: pointer;\n",
              "        display: none;\n",
              "        fill: #1967D2;\n",
              "        height: 32px;\n",
              "        padding: 0 0 0 0;\n",
              "        width: 32px;\n",
              "      }\n",
              "\n",
              "      .colab-df-generate:hover {\n",
              "        background-color: #E2EBFA;\n",
              "        box-shadow: 0px 1px 2px rgba(60, 64, 67, 0.3), 0px 1px 3px 1px rgba(60, 64, 67, 0.15);\n",
              "        fill: #174EA6;\n",
              "      }\n",
              "\n",
              "      [theme=dark] .colab-df-generate {\n",
              "        background-color: #3B4455;\n",
              "        fill: #D2E3FC;\n",
              "      }\n",
              "\n",
              "      [theme=dark] .colab-df-generate:hover {\n",
              "        background-color: #434B5C;\n",
              "        box-shadow: 0px 1px 3px 1px rgba(0, 0, 0, 0.15);\n",
              "        filter: drop-shadow(0px 1px 2px rgba(0, 0, 0, 0.3));\n",
              "        fill: #FFFFFF;\n",
              "      }\n",
              "    </style>\n",
              "    <button class=\"colab-df-generate\" onclick=\"generateWithVariable('result_pd')\"\n",
              "            title=\"Generate code using this dataframe.\"\n",
              "            style=\"display:none;\">\n",
              "\n",
              "  <svg xmlns=\"http://www.w3.org/2000/svg\" height=\"24px\"viewBox=\"0 0 24 24\"\n",
              "       width=\"24px\">\n",
              "    <path d=\"M7,19H8.4L18.45,9,17,7.55,7,17.6ZM5,21V16.75L18.45,3.32a2,2,0,0,1,2.83,0l1.4,1.43a1.91,1.91,0,0,1,.58,1.4,1.91,1.91,0,0,1-.58,1.4L9.25,21ZM18.45,9,17,7.55Zm-12,3A5.31,5.31,0,0,0,4.9,8.1,5.31,5.31,0,0,0,1,6.5,5.31,5.31,0,0,0,4.9,4.9,5.31,5.31,0,0,0,6.5,1,5.31,5.31,0,0,0,8.1,4.9,5.31,5.31,0,0,0,12,6.5,5.46,5.46,0,0,0,6.5,12Z\"/>\n",
              "  </svg>\n",
              "    </button>\n",
              "    <script>\n",
              "      (() => {\n",
              "      const buttonEl =\n",
              "        document.querySelector('#id_01852979-c9bb-4ae3-b10c-273ed4c100bb button.colab-df-generate');\n",
              "      buttonEl.style.display =\n",
              "        google.colab.kernel.accessAllowed ? 'block' : 'none';\n",
              "\n",
              "      buttonEl.onclick = () => {\n",
              "        google.colab.notebook.generateWithVariable('result_pd');\n",
              "      }\n",
              "      })();\n",
              "    </script>\n",
              "  </div>\n",
              "\n",
              "    </div>\n",
              "  </div>\n"
            ],
            "application/vnd.google.colaboratory.intrinsic+json": {
              "type": "dataframe",
              "variable_name": "result_pd",
              "summary": "{\n  \"name\": \"result_pd\",\n  \"rows\": 5,\n  \"fields\": [\n    {\n      \"column\": \"\\uc2dc\\uc911\\uc740\\ud589_\\uc0c1\\uc704\",\n      \"properties\": {\n        \"dtype\": \"string\",\n        \"num_unique_values\": 5,\n        \"samples\": [\n          \"\\uc1a1\\uc911\\ub3d9\",\n          \"\\uc0ac\\ub2f92\\ub3d9\",\n          \"\\uc138\\uace1\\ub3d9\"\n        ],\n        \"semantic_type\": \"\",\n        \"description\": \"\"\n      }\n    },\n    {\n      \"column\": \"4\\uac1c\\uc740\\ud589_\\uc0c1\\uc704\",\n      \"properties\": {\n        \"dtype\": \"string\",\n        \"num_unique_values\": 5,\n        \"samples\": [\n          \"\\ub4f1\\ucd0c3\\ub3d9\",\n          \"\\ubd81\\uc544\\ud604\\ub3d9\",\n          \"\\ud654\\uace11\\ub3d9\"\n        ],\n        \"semantic_type\": \"\",\n        \"description\": \"\"\n      }\n    },\n    {\n      \"column\": \"\\uad6d\\ubbfc\\uc740\\ud589_\\uc0c1\\uc704\",\n      \"properties\": {\n        \"dtype\": \"string\",\n        \"num_unique_values\": 5,\n        \"samples\": [\n          \"\\uc6a9\\uc2e0\\ub3d9\",\n          \"\\uc2e0\\ucd0c\\ub3d9\",\n          \"\\uc9c4\\uad00\\ub3d9\"\n        ],\n        \"semantic_type\": \"\",\n        \"description\": \"\"\n      }\n    },\n    {\n      \"column\": \"\\uc2e0\\ud55c\\uc740\\ud589_\\uc0c1\\uc704\",\n      \"properties\": {\n        \"dtype\": \"string\",\n        \"num_unique_values\": 5,\n        \"samples\": [\n          \"\\ud68c\\ud604\\ub3d9\",\n          \"\\ub300\\uc870\\ub3d9\",\n          \"\\uc9c4\\uad00\\ub3d9\"\n        ],\n        \"semantic_type\": \"\",\n        \"description\": \"\"\n      }\n    },\n    {\n      \"column\": \"\\ud558\\ub098\\uc740\\ud589_\\uc0c1\\uc704\",\n      \"properties\": {\n        \"dtype\": \"string\",\n        \"num_unique_values\": 5,\n        \"samples\": [\n          \"\\uc6a9\\uc2e0\\ub3d9\",\n          \"\\uc601\\ub4f1\\ud3ec\\ub3d9\",\n          \"\\ud68c\\ud604\\ub3d9\"\n        ],\n        \"semantic_type\": \"\",\n        \"description\": \"\"\n      }\n    },\n    {\n      \"column\": \"\\uc6b0\\ub9ac\\uc740\\ud589_\\uc0c1\\uc704\",\n      \"properties\": {\n        \"dtype\": \"string\",\n        \"num_unique_values\": 5,\n        \"samples\": [\n          \"\\uc7a0\\uc2e43\\ub3d9\",\n          \"\\ucda9\\ud604\\ub3d9\",\n          \"\\ub9dd\\uc6b0\\ubcf8\\ub3d9\"\n        ],\n        \"semantic_type\": \"\",\n        \"description\": \"\"\n      }\n    },\n    {\n      \"column\": \"\\uc2dc\\uc911\\uc740\\ud589_\\ud558\\uc704\",\n      \"properties\": {\n        \"dtype\": \"string\",\n        \"num_unique_values\": 5,\n        \"samples\": [\n          \"\\uc2e0\\uc0ac2\\ub3d9\",\n          \"\\uc0c1\\uc77c2\\ub3d9\",\n          \"\\uc2e0\\uc0ac1\\ub3d9\"\n        ],\n        \"semantic_type\": \"\",\n        \"description\": \"\"\n      }\n    },\n    {\n      \"column\": \"4\\uac1c\\uc740\\ud589_\\ud558\\uc704\",\n      \"properties\": {\n        \"dtype\": \"string\",\n        \"num_unique_values\": 5,\n        \"samples\": [\n          \"\\ud654\\uace12\\ub3d9\",\n          \"\\uc0c1\\uc77c2\\ub3d9\",\n          \"\\ud654\\uace14\\ub3d9\"\n        ],\n        \"semantic_type\": \"\",\n        \"description\": \"\"\n      }\n    },\n    {\n      \"column\": \"\\uad6d\\ubbfc\\uc740\\ud589_\\ud558\\uc704\",\n      \"properties\": {\n        \"dtype\": \"string\",\n        \"num_unique_values\": 5,\n        \"samples\": [\n          \"\\uad50\\ub0a8\\ub3d9\",\n          \"\\uc2e0\\uc6d46\\ub3d9\",\n          \"\\ub3c4\\uace12\\ub3d9\"\n        ],\n        \"semantic_type\": \"\",\n        \"description\": \"\"\n      }\n    },\n    {\n      \"column\": \"\\uc2e0\\ud55c\\uc740\\ud589_\\ud558\\uc704\",\n      \"properties\": {\n        \"dtype\": \"string\",\n        \"num_unique_values\": 5,\n        \"samples\": [\n          \"\\ud544\\ub3d9\",\n          \"\\uc18c\\uacf5\\ub3d9\",\n          \"\\uac00\\ud68c\\ub3d9\"\n        ],\n        \"semantic_type\": \"\",\n        \"description\": \"\"\n      }\n    },\n    {\n      \"column\": \"\\ud558\\ub098\\uc740\\ud589_\\ud558\\uc704\",\n      \"properties\": {\n        \"dtype\": \"string\",\n        \"num_unique_values\": 5,\n        \"samples\": [\n          \"\\uc0bc\\uccad\\ub3d9\",\n          \"\\ud68c\\uae30\\ub3d9\",\n          \"\\uac00\\ud68c\\ub3d9\"\n        ],\n        \"semantic_type\": \"\",\n        \"description\": \"\"\n      }\n    },\n    {\n      \"column\": \"\\uc6b0\\ub9ac\\uc740\\ud589_\\ud558\\uc704\",\n      \"properties\": {\n        \"dtype\": \"string\",\n        \"num_unique_values\": 5,\n        \"samples\": [\n          \"\\uc11c\\ucd084\\ub3d9\",\n          \"\\uc911\\ub9bc\\ub3d9\",\n          \"\\uc0bc\\uccad\\ub3d9\"\n        ],\n        \"semantic_type\": \"\",\n        \"description\": \"\"\n      }\n    },\n    {\n      \"column\": \"4\\uac1c\\uc740\\ud589_\\uac1c\\ubcc4_\\uc0c1\\uc704\",\n      \"properties\": {\n        \"dtype\": \"string\",\n        \"num_unique_values\": 5,\n        \"samples\": [\n          \"\\uae38\\ub3d9\",\n          \"\\uac00\\uc0b0\\ub3d9\",\n          \"\\uc6a9\\uc2e0\\ub3d9\"\n        ],\n        \"semantic_type\": \"\",\n        \"description\": \"\"\n      }\n    },\n    {\n      \"column\": \"4\\uac1c\\uc740\\ud589_\\uac1c\\ubcc4_\\ud558\\uc704\",\n      \"properties\": {\n        \"dtype\": \"string\",\n        \"num_unique_values\": 5,\n        \"samples\": [\n          \"\\uc0bc\\uccad\\ub3d9\",\n          \"\\uc18c\\uacf5\\ub3d9\",\n          \"\\ub178\\ub7c9\\uc9c42\\ub3d9\"\n        ],\n        \"semantic_type\": \"\",\n        \"description\": \"\"\n      }\n    }\n  ]\n}"
            }
          },
          "metadata": {},
          "execution_count": 190
        }
      ]
    },
    {
      "cell_type": "code",
      "source": [
        "result_pd.to_excel(\"/content/drive/MyDrive/asac/project/eda/filtered/불편도랭킹_은행별결과.xlsx\")"
      ],
      "metadata": {
        "id": "IjPNRFXSH0s3"
      },
      "execution_count": null,
      "outputs": []
    },
    {
      "cell_type": "markdown",
      "source": [
        "## ver2. 방문할 가능성이 있는 동으로부터 시간불편도 결과"
      ],
      "metadata": {
        "id": "VgqUoLDi9DYx"
      }
    },
    {
      "cell_type": "markdown",
      "source": [
        "### 해당 행정동 은행을 방문하는 다른 행정동 수"
      ],
      "metadata": {
        "id": "-x37uawo6FG9"
      }
    },
    {
      "cell_type": "code",
      "source": [
        "def count_visit(x):\n",
        "  return len(v15[v15[\"가까운은행\"].str.contains(x)])"
      ],
      "metadata": {
        "id": "T4ltZHG8mMQB"
      },
      "execution_count": null,
      "outputs": []
    },
    {
      "cell_type": "code",
      "source": [
        "v15[\"방문하는행정동수\"]=v15[v15[\"유효신한\"]!=0].loc[:,\"행정동명\"].apply(count_visit)"
      ],
      "metadata": {
        "id": "Zk8qK7S8mXTG"
      },
      "execution_count": null,
      "outputs": []
    },
    {
      "cell_type": "code",
      "source": [
        "v15[\"방문하는행정동수\"].fillna(0,inplace=True)"
      ],
      "metadata": {
        "id": "K4s9RXK8nHF9"
      },
      "execution_count": null,
      "outputs": []
    },
    {
      "cell_type": "code",
      "source": [
        "v15.to_excel(\"/content/drive/MyDrive/asac/project/eda/filtered/v22.xlsx\")"
      ],
      "metadata": {
        "id": "QFvlAV-ngyBO"
      },
      "execution_count": null,
      "outputs": []
    },
    {
      "cell_type": "markdown",
      "source": [
        "### 방문할 가능성이 있는 동으로부터 시간불편도 다시 계산(신한ver)"
      ],
      "metadata": {
        "id": "TOJRYjRU5-NI"
      }
    },
    {
      "cell_type": "code",
      "source": [
        "v15=pd.read_excel(\"/content/drive/MyDrive/asac/project/eda/filtered/v22.xlsx\")"
      ],
      "metadata": {
        "id": "w6AvFPPH7ZDF"
      },
      "execution_count": null,
      "outputs": []
    },
    {
      "cell_type": "code",
      "source": [
        "v15.replace(to_replace=\"-\",value=0,inplace=True)"
      ],
      "metadata": {
        "id": "PRuV6kR6NA-E"
      },
      "execution_count": null,
      "outputs": []
    },
    {
      "cell_type": "code",
      "source": [
        "v15=v15.loc[:425,:]\n",
        "v15"
      ],
      "metadata": {
        "id": "syLjl-lsNXTm"
      },
      "execution_count": null,
      "outputs": []
    },
    {
      "cell_type": "code",
      "source": [
        "v15[v15[\"가까운은행\"].str.contains(\"사직동\")].loc[:,\"총합_시간불편도\"].sum()"
      ],
      "metadata": {
        "colab": {
          "base_uri": "https://localhost:8080/"
        },
        "id": "MujQWLfy8Oi1",
        "outputId": "dcaadd9e-5e7f-4ecb-ea2c-429112a690cb"
      },
      "execution_count": null,
      "outputs": [
        {
          "output_type": "execute_result",
          "data": {
            "text/plain": [
              "5735906310.299999"
            ]
          },
          "metadata": {},
          "execution_count": 34
        }
      ]
    },
    {
      "cell_type": "code",
      "source": [
        "def calc_timeloss(x):\n",
        "  name=x[0]\n",
        "  cnt=x[1]\n",
        "  return (v15[v15[\"가까운은행\"].str.contains(x[0])].loc[:,\"총합_시간불편도\"].sum())/x[1]\n"
      ],
      "metadata": {
        "id": "RdzkeC65724P"
      },
      "execution_count": null,
      "outputs": []
    },
    {
      "cell_type": "code",
      "source": [
        "v15[\"신한은행_지점당_시간불편도\"]=v15[v15[\"유효신한\"]!=0].loc[:,[\"행정동명\",\"유효신한\"]].apply(calc_timeloss,axis=1)"
      ],
      "metadata": {
        "id": "WEGAVbbw5O9U"
      },
      "execution_count": null,
      "outputs": []
    },
    {
      "cell_type": "code",
      "source": [
        "v15[\"신한은행_지점당_시간불편도\"]"
      ],
      "metadata": {
        "id": "0MJnF8Md-qh8"
      },
      "execution_count": null,
      "outputs": []
    },
    {
      "cell_type": "code",
      "source": [
        "s_sorted=v15[v15[\"신한은행_지점당_시간불편도\"]!=0].sort_values(by=\"신한은행_지점당_시간불편도\",ascending=False)\n",
        "s_top5=s_sorted.head(5)[\"행정동명\"]\n",
        "s_top5"
      ],
      "metadata": {
        "colab": {
          "base_uri": "https://localhost:8080/"
        },
        "id": "azwpHPO2_gzG",
        "outputId": "73e83b6c-b12e-4a9c-c7b2-d9c04a1ff203"
      },
      "execution_count": null,
      "outputs": [
        {
          "output_type": "execute_result",
          "data": {
            "text/plain": [
              "99       중화1동\n",
              "407      명일1동\n",
              "422        길동\n",
              "262      구로3동\n",
              "172    상계6.7동\n",
              "Name: 행정동명, dtype: object"
            ]
          },
          "metadata": {},
          "execution_count": 11
        }
      ]
    },
    {
      "cell_type": "code",
      "source": [
        "s_tails=s_sorted[s_sorted[\"신한은행_지점당_시간불편도\"].notnull()]\n",
        "s_tail5=s_tails.tail(5)[\"행정동명\"]\n",
        "s_tail5"
      ],
      "metadata": {
        "colab": {
          "base_uri": "https://localhost:8080/"
        },
        "id": "loLK7CqVAmj8",
        "outputId": "e02fe4f4-3873-4794-e292-f05a04100d7e"
      },
      "execution_count": null,
      "outputs": [
        {
          "output_type": "execute_result",
          "data": {
            "text/plain": [
              "375    압구정동\n",
              "365    역삼1동\n",
              "286     여의동\n",
              "361    삼성1동\n",
              "343    서초3동\n",
              "Name: 행정동명, dtype: object"
            ]
          },
          "metadata": {},
          "execution_count": 53
        }
      ]
    },
    {
      "cell_type": "markdown",
      "source": [
        "### 상위, 하위 (청년, 중장년층)\n"
      ],
      "metadata": {
        "id": "pZkOUeztTIjj"
      }
    },
    {
      "cell_type": "code",
      "source": [
        "v15=pd.read_excel(\"/content/drive/MyDrive/asac/project/eda/filtered/v22.xlsx\")"
      ],
      "metadata": {
        "id": "8sfiMg5eP5fp"
      },
      "execution_count": null,
      "outputs": []
    },
    {
      "cell_type": "code",
      "source": [
        "v15[\"신한은행_지점당_청장년층불편도\"]=v15[v15[\"유효신한\"]!=0].loc[:,[\"청장년층_시간불편도\",\"유효신한\"]].apply(lambda x:x[0]/x[1],axis=1)\n",
        "\n",
        "y_sorted=v15.sort_values(by=\"신한은행_지점당_청장년층불편도\",ascending=False)\n",
        "y_top5=y_sorted.head(10)[\"행정동명\"]\n",
        "y_top5"
      ],
      "metadata": {
        "colab": {
          "base_uri": "https://localhost:8080/"
        },
        "id": "9TKjsYdoTNZb",
        "outputId": "fad41ba9-6379-405e-dfbd-217453fe2976"
      },
      "execution_count": null,
      "outputs": [
        {
          "output_type": "execute_result",
          "data": {
            "text/plain": [
              "276     가산동\n",
              "262    구로3동\n",
              "366    역삼2동\n",
              "45     한강로동\n",
              "18      회현동\n",
              "Name: 행정동명, dtype: object"
            ]
          },
          "metadata": {},
          "execution_count": 54
        }
      ]
    },
    {
      "cell_type": "code",
      "source": [
        "v15[v15[\"신한은행_지점당_시간불편도\"]!=0][\"신한은행_지점당_시간불편도\"].median()"
      ],
      "metadata": {
        "colab": {
          "base_uri": "https://localhost:8080/"
        },
        "id": "9-wXmLQ8PzQU",
        "outputId": "29413a2d-6b94-42e6-91a7-8f5348693c65"
      },
      "execution_count": null,
      "outputs": [
        {
          "output_type": "execute_result",
          "data": {
            "text/plain": [
              "9379170788.9"
            ]
          },
          "metadata": {},
          "execution_count": 55
        }
      ]
    },
    {
      "cell_type": "code",
      "source": [
        "v15[\"신한은행_지점당_노년층불편도\"]=v15[v15[\"유효신한\"]!=0].loc[:,[\"노인층_시간불편도\",\"유효신한\"]].apply(lambda x:x[0]/x[1],axis=1)\n",
        "\n",
        "o_sorted=v15.sort_values(by=\"신한은행_지점당_노년층불편도\",ascending=False)\n",
        "o_top5=o_sorted.head(5)[\"행정동명\"]\n",
        "o_top5"
      ],
      "metadata": {
        "colab": {
          "base_uri": "https://localhost:8080/"
        },
        "id": "zKt_FOhpTc6I",
        "outputId": "0fd31e8e-5cda-41a6-b85f-d5a3ee0a78b1"
      },
      "execution_count": null,
      "outputs": [
        {
          "output_type": "execute_result",
          "data": {
            "text/plain": [
              "422      길동\n",
              "187     진관동\n",
              "18      회현동\n",
              "301    영등포동\n",
              "421    천호2동\n",
              "Name: 행정동명, dtype: object"
            ]
          },
          "metadata": {},
          "execution_count": 56
        }
      ]
    },
    {
      "cell_type": "code",
      "source": [
        "v15.to_excel(\"/content/drive/MyDrive/asac/project/eda/filtered/v21.xlsx\")"
      ],
      "metadata": {
        "id": "bSVwohQP-oH4"
      },
      "execution_count": null,
      "outputs": []
    }
  ]
}